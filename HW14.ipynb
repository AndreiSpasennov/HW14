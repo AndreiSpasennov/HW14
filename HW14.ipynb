{
 "cells": [
  {
   "cell_type": "code",
   "execution_count": 63,
   "id": "86ef7805-6c0b-484a-9011-e9b61ea7cd52",
   "metadata": {
    "tags": []
   },
   "outputs": [
    {
     "name": "stdout",
     "output_type": "stream",
     "text": [
      "0\n",
      "1\n",
      "4\n",
      "9\n",
      "16\n",
      "25\n",
      "36\n",
      "49\n",
      "64\n",
      "81\n",
      "100\n"
     ]
    }
   ],
   "source": [
    "for i in range(100):\n",
    "    i *= i\n",
    "    print(i)\n",
    "    if i >= 100:\n",
    "        break\n",
    "# 0(log(n))"
   ]
  },
  {
   "cell_type": "code",
   "execution_count": 62,
   "id": "4663bf05-e700-4d66-8d85-6223d2a49a34",
   "metadata": {
    "tags": []
   },
   "outputs": [
    {
     "name": "stdout",
     "output_type": "stream",
     "text": [
      "1\n",
      "2\n",
      "4\n",
      "8\n",
      "16\n",
      "32\n",
      "64\n",
      "128\n"
     ]
    }
   ],
   "source": [
    "n = 100\n",
    "for i in range(n):\n",
    "    i = pow(2, i)\n",
    "    print(i)\n",
    "    if i > (n+1):\n",
    "        break\n",
    "# 0(log(n))"
   ]
  },
  {
   "cell_type": "code",
   "execution_count": 72,
   "id": "f485e785-2873-49a2-bea1-717a3f6c5a71",
   "metadata": {
    "tags": []
   },
   "outputs": [],
   "source": [
    "def complex_method(y):\n",
    "    for i in range(y):\n",
    "        print(i, y)\n",
    "        if y > 1:\n",
    "            complex_method(y-1)\n",
    "        else:\n",
    "            return True\n",
    "# O(2**n)"
   ]
  },
  {
   "cell_type": "code",
   "execution_count": 74,
   "id": "121a3932-95fd-478b-a922-50fdbd362315",
   "metadata": {
    "tags": []
   },
   "outputs": [
    {
     "name": "stdout",
     "output_type": "stream",
     "text": [
      "0 3\n",
      "0 2\n",
      "0 1\n",
      "1 2\n",
      "0 1\n",
      "1 3\n",
      "0 2\n",
      "0 1\n",
      "1 2\n",
      "0 1\n",
      "2 3\n",
      "0 2\n",
      "0 1\n",
      "1 2\n",
      "0 1\n"
     ]
    }
   ],
   "source": [
    "complex_method(3)"
   ]
  },
  {
   "cell_type": "code",
   "execution_count": 77,
   "id": "5c70804f-88b1-4f57-8d3b-fd6a4128668b",
   "metadata": {
    "tags": []
   },
   "outputs": [],
   "source": [
    "def sumD(x):\n",
    "    if x == 0:\n",
    "        return x\n",
    "    else:\n",
    "        return int(x % 10) + sumD(int(x / 10))"
   ]
  },
  {
   "cell_type": "code",
   "execution_count": 78,
   "id": "16278771-aa67-48b9-99a0-e9ae84054d0c",
   "metadata": {
    "tags": []
   },
   "outputs": [
    {
     "data": {
      "text/plain": [
       "25"
      ]
     },
     "execution_count": 78,
     "metadata": {},
     "output_type": "execute_result"
    }
   ],
   "source": [
    "sumD(53872)"
   ]
  },
  {
   "cell_type": "code",
   "execution_count": 42,
   "id": "996fe679-61ab-4cce-9810-d32df8d966ef",
   "metadata": {
    "tags": []
   },
   "outputs": [],
   "source": [
    "def sumN(j):\n",
    "    if j == 0:\n",
    "        return j\n",
    "    else:\n",
    "        return (j + sumN(j - 1))"
   ]
  },
  {
   "cell_type": "code",
   "execution_count": 45,
   "id": "9aeaec14-a876-402a-800a-f8c1db28b9d8",
   "metadata": {
    "tags": []
   },
   "outputs": [
    {
     "data": {
      "text/plain": [
       "144991"
      ]
     },
     "execution_count": 45,
     "metadata": {},
     "output_type": "execute_result"
    }
   ],
   "source": [
    "sumN(538)"
   ]
  },
  {
   "cell_type": "code",
   "execution_count": 69,
   "id": "e7a86053-09fc-4d69-83c1-51ea3558cb4d",
   "metadata": {
    "tags": []
   },
   "outputs": [
    {
     "name": "stdout",
     "output_type": "stream",
     "text": [
      "34\n"
     ]
    }
   ],
   "source": [
    "def Fib(z):\n",
    "    if z == 1:\n",
    "        return 1\n",
    "    elif z == 0:\n",
    "        return 0\n",
    "    return Fib(z - 1) + Fib(z - 2)\n",
    "\n",
    "\n",
    "print(Fib(9))\n",
    "# 0(2**n)"
   ]
  },
  {
   "cell_type": "code",
   "execution_count": null,
   "id": "9c522137-861e-416b-879d-e7385d84c177",
   "metadata": {},
   "outputs": [],
   "source": []
  }
 ],
 "metadata": {
  "kernelspec": {
   "display_name": "Python 3 (ipykernel)",
   "language": "python",
   "name": "python3"
  },
  "language_info": {
   "codemirror_mode": {
    "name": "ipython",
    "version": 3
   },
   "file_extension": ".py",
   "mimetype": "text/x-python",
   "name": "python",
   "nbconvert_exporter": "python",
   "pygments_lexer": "ipython3",
   "version": "3.10.8"
  }
 },
 "nbformat": 4,
 "nbformat_minor": 5
}
